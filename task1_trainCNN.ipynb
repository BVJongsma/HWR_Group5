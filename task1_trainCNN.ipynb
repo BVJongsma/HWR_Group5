{
 "cells": [
  {
   "cell_type": "code",
   "execution_count": 28,
   "metadata": {},
   "outputs": [],
   "source": [
    "import cv2\n",
    "import numpy as np \n",
    "import pandas as pd \n",
    "from sklearn.model_selection import train_test_split\n",
    "import keras \n",
    "from keras.models import Sequential\n",
    "from keras.layers import Conv2D, Dense, MaxPool2D, Dropout, Flatten\n",
    "from keras.callbacks import ModelCheckpoint\n",
    "from sklearn.preprocessing import LabelBinarizer\n",
    "import matplotlib.pyplot as plt\n",
    "# import Augmentor"
   ]
  },
  {
   "cell_type": "code",
   "execution_count": 2,
   "metadata": {},
   "outputs": [],
   "source": [
    "# load monkbrill jpg data\n",
    "data = dict()\n",
    "data['label'] = []\n",
    "data['filename'] = []\n",
    "data['data'] = []   \n",
    "\n",
    "data_path = \"monkbrill-jpg/\"\n",
    "for subdir in os.listdir(data_path):\n",
    "    current_path = os.path.join(data_path, subdir)\n",
    "\n",
    "    for file in os.listdir(current_path):\n",
    "        im = cv2.imread(os.path.join(current_path, file), cv2.IMREAD_GRAYSCALE)\n",
    "        im = cv2.resize(im, (38, 48)) # (width, height)\n",
    "        data['label'].append(subdir)\n",
    "        data['filename'].append(file)\n",
    "        data['data'].append(im)"
   ]
  },
  {
   "cell_type": "code",
   "execution_count": 14,
   "metadata": {},
   "outputs": [],
   "source": [
    "# one-hot encode class labels\n",
    "encoder = LabelBinarizer()\n",
    "onehot_labels = encoder.fit_transform(data['label'])"
   ]
  },
  {
   "cell_type": "code",
   "execution_count": 70,
   "metadata": {},
   "outputs": [],
   "source": [
    "# split in training and validation data and normalize\n",
    "X_train, X_val, y_train, y_val = train_test_split(data['data'], onehot_labels, test_size=0.2, random_state=0, shuffle=True)\n",
    "X_train = np.array(X_train) / 255.0\n",
    "y_train = np.array(y_train) \n",
    "X_val = np.array(X_val) / 255.0\n",
    "y_val = np.array(y_val)"
   ]
  },
  {
   "cell_type": "code",
   "execution_count": 71,
   "metadata": {},
   "outputs": [
    {
     "name": "stdout",
     "output_type": "stream",
     "text": [
      "Model: \"sequential_8\"\n",
      "_________________________________________________________________\n",
      " Layer (type)                Output Shape              Param #   \n",
      "=================================================================\n",
      " conv2d_16 (Conv2D)          (None, 48, 38, 32)        832       \n",
      "                                                                 \n",
      " max_pooling2d_16 (MaxPoolin  (None, 24, 19, 32)       0         \n",
      " g2D)                                                            \n",
      "                                                                 \n",
      " conv2d_17 (Conv2D)          (None, 20, 15, 48)        38448     \n",
      "                                                                 \n",
      " max_pooling2d_17 (MaxPoolin  (None, 10, 7, 48)        0         \n",
      " g2D)                                                            \n",
      "                                                                 \n",
      " dropout_8 (Dropout)         (None, 10, 7, 48)         0         \n",
      "                                                                 \n",
      " flatten_8 (Flatten)         (None, 3360)              0         \n",
      "                                                                 \n",
      " dense_24 (Dense)            (None, 256)               860416    \n",
      "                                                                 \n",
      " dense_25 (Dense)            (None, 84)                21588     \n",
      "                                                                 \n",
      " dropout_9 (Dropout)         (None, 84)                0         \n",
      "                                                                 \n",
      " dense_26 (Dense)            (None, 27)                2295      \n",
      "                                                                 \n",
      "=================================================================\n",
      "Total params: 923,579\n",
      "Trainable params: 923,579\n",
      "Non-trainable params: 0\n",
      "_________________________________________________________________\n"
     ]
    }
   ],
   "source": [
    "# Build LeNet model\n",
    "model = Sequential()\n",
    "model.add(Conv2D(filters=32, kernel_size=(5,5), padding='same', activation='relu', input_shape=(48, 38, 1)))\n",
    "model.add(MaxPool2D(strides=2))\n",
    "model.add(Conv2D(filters=48, kernel_size=(5,5), padding='valid', activation='relu'))\n",
    "model.add(MaxPool2D(strides=2))\n",
    "model.add(Dropout(0.2))\n",
    "model.add(Flatten())\n",
    "model.add(Dense(256, activation='relu'))\n",
    "model.add(Dense(84, activation='relu'))\n",
    "model.add(Dropout(0.2))\n",
    "model.add(Dense(27, activation='softmax'))\n",
    "\n",
    "model.summary()"
   ]
  },
  {
   "cell_type": "code",
   "execution_count": 24,
   "metadata": {},
   "outputs": [
    {
     "name": "stdout",
     "output_type": "stream",
     "text": [
      "Epoch 1/10\n",
      "139/139 [==============================] - 7s 45ms/step - loss: 1.1933 - accuracy: 0.6780 - val_loss: 0.5011 - val_accuracy: 0.8574\n",
      "Epoch 2/10\n",
      "139/139 [==============================] - 6s 45ms/step - loss: 0.4661 - accuracy: 0.8625 - val_loss: 0.2891 - val_accuracy: 0.9224\n",
      "Epoch 3/10\n",
      "139/139 [==============================] - 6s 44ms/step - loss: 0.2955 - accuracy: 0.9117 - val_loss: 0.2440 - val_accuracy: 0.9359\n",
      "Epoch 4/10\n",
      "139/139 [==============================] - 6s 44ms/step - loss: 0.2095 - accuracy: 0.9341 - val_loss: 0.2335 - val_accuracy: 0.9314\n",
      "Epoch 5/10\n",
      "139/139 [==============================] - 6s 44ms/step - loss: 0.1650 - accuracy: 0.9433 - val_loss: 0.2275 - val_accuracy: 0.9395\n",
      "Epoch 6/10\n",
      "139/139 [==============================] - 6s 44ms/step - loss: 0.1229 - accuracy: 0.9580 - val_loss: 0.2442 - val_accuracy: 0.9449\n",
      "Epoch 7/10\n",
      "139/139 [==============================] - 6s 45ms/step - loss: 0.0887 - accuracy: 0.9686 - val_loss: 0.2295 - val_accuracy: 0.9504\n",
      "Epoch 8/10\n",
      "139/139 [==============================] - 6s 44ms/step - loss: 0.0704 - accuracy: 0.9765 - val_loss: 0.2689 - val_accuracy: 0.9495\n",
      "Epoch 9/10\n",
      "139/139 [==============================] - 6s 45ms/step - loss: 0.0789 - accuracy: 0.9745 - val_loss: 0.2283 - val_accuracy: 0.9504\n",
      "Epoch 10/10\n",
      "139/139 [==============================] - 6s 44ms/step - loss: 0.0565 - accuracy: 0.9813 - val_loss: 0.2414 - val_accuracy: 0.9540\n"
     ]
    }
   ],
   "source": [
    "# Compile and train model\n",
    "model.compile(loss='categorical_crossentropy', metrics=['accuracy'], optimizer='adam')\n",
    "model_filepath = 'models/LeNet_model.h5'\n",
    "callback = ModelCheckpoint(filepath=model_filepath, save_weights_only=True, monitor='val_loss', mode='min', save_best_only=True)\n",
    "history = model.fit(X_train, y_train, epochs=10, validation_data = (X_val, y_val), callbacks = [callback], verbose=1)"
   ]
  },
  {
   "cell_type": "code",
   "execution_count": 25,
   "metadata": {},
   "outputs": [
    {
     "data": {
      "image/png": "[encoded data removed]",
      "text/plain": [
       "<Figure size 432x288 with 1 Axes>"
      ]
     },
     "metadata": {
      "needs_background": "light"
     },
     "output_type": "display_data"
    }
   ],
   "source": [
    "# Plot the loss\n",
    "plt.plot(history.history['loss'], label = 'Training loss')\n",
    "plt.plot(history.history['val_loss'], label = 'Validation loss')\n",
    "plt.ylabel('Loss')\n",
    "plt.xlabel('Epoch')\n",
    "plt.legend()\n",
    "plt.grid()\n",
    "plt.show()\n"
   ]
  },
  {
   "cell_type": "code",
   "execution_count": 26,
   "metadata": {},
   "outputs": [
    {
     "data": {
      "image/png": "[encoded data removed]",
      "text/plain": [
       "<Figure size 432x288 with 1 Axes>"
      ]
     },
     "metadata": {
      "needs_background": "light"
     },
     "output_type": "display_data"
    }
   ],
   "source": [
    "# Plot the accurcy\n",
    "plt.plot(history.history['accuracy'], label = 'Training accuracy')\n",
    "plt.plot(history.history['val_accuracy'], label = 'Validation accuracy')\n",
    "plt.ylabel('Accuracy')\n",
    "plt.xlabel('Epoch')\n",
    "plt.legend()\n",
    "plt.grid()\n",
    "plt.show()"
   ]
  }
 ],
 "metadata": {
  "interpreter": {
   "hash": "19ffe857a2ab32f5ffd08fe3d367f83053230d937faf3a2e2967295e5b1b4b03"
  },
  "kernelspec": {
   "display_name": "Python 3.9.12 64-bit (windows store)",
   "language": "python",
   "name": "python3"
  },
  "language_info": {
   "codemirror_mode": {
    "name": "ipython",
    "version": 3
   },
   "file_extension": ".py",
   "mimetype": "text/x-python",
   "name": "python",
   "nbconvert_exporter": "python",
   "pygments_lexer": "ipython3",
   "version": "3.9.12"
  },
  "orig_nbformat": 4
 },
 "nbformat": 4,
 "nbformat_minor": 2
}
