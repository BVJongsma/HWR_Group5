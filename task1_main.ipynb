import os
import cv2
import numpy as np

path = "../binary_images/"
for img_name in path
    img = cv2.imread(img_name)
    edges = cv2.Canny(gray,50,150,apertureSize = 3)
    minLineLength = 100
    maxLineGap = 10
    lines = cv2.HoughLinesP(edges,1,np.pi/180,100,minLineLength,maxLineGap)
    for x1,y1,x2,y2 in lines[0]:
        cv2.line(img,(x1,y1),(x2,y2),(0,255,0),2)

    cv2.imwrite('houghlines/houghlines_' + img_name '.jpg',img)
